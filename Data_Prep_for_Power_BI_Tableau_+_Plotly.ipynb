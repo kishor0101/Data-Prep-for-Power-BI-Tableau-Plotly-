{
  "nbformat": 4,
  "nbformat_minor": 0,
  "metadata": {
    "colab": {
      "provenance": []
    },
    "kernelspec": {
      "name": "python3",
      "display_name": "Python 3"
    },
    "language_info": {
      "name": "python"
    }
  },
  "cells": [
    {
      "cell_type": "markdown",
      "source": [
        "# Month 2: Power BI / Tableau Prep + Interactive HTML Dashboard\n",
        "\n",
        "Project: Prepare dataset for Power BI / Tableau and build a simple interactive dashboard saved as a standalone HTML (Plotly) — this works as a Power BI/Tableau prototype and a runnable dashboard for interviews.\n",
        "rename functions, change chart types, rework layout, add extra computed KPIs."
      ],
      "metadata": {
        "id": "6dIYdDK_Q7MC"
      }
    },
    {
      "cell_type": "code",
      "execution_count": 5,
      "metadata": {
        "colab": {
          "base_uri": "https://localhost:8080/"
        },
        "id": "qxpkIC5LQ56g",
        "outputId": "5b08d973-037d-4389-fa39-39f9a7582987"
      },
      "outputs": [
        {
          "output_type": "stream",
          "name": "stdout",
          "text": [
            "KPIs: {'total_revenue': np.float64(725.0), 'total_units': 50, 'unique_products': 3, 'unique_stores': 3}\n",
            "Saved interactive dashboard to: outputs/retail_dashboard.html\n"
          ]
        }
      ],
      "source": [
        "# =========================\n",
        "# Data Prep for Power BI/Tableau + Plotly interactive dashboard (HTML)\n",
        "# Produces: retail_dashboard.html (offline)\n",
        "# =========================\n",
        "\n",
        "import pandas as pd\n",
        "import plotly.express as px\n",
        "import plotly.io as pio\n",
        "from pathlib import Path\n",
        "\n",
        "# Load CSV produced in Cell 1 — replace path if needed\n",
        "data_path = Path(\"outputs/retail_sales.csv\")\n",
        "if not data_path.exists():\n",
        "    raise FileNotFoundError(\"Run Month 1 cell first or upload retail_sales.csv to outputs/\")\n",
        "\n",
        "sales = pd.read_csv(data_path, parse_dates=['date'])\n",
        "sales['month'] = sales['date'].dt.to_period('M').astype(str)\n",
        "\n",
        "# Compute KPIs\n",
        "kpis = {\n",
        "    'total_revenue': sales['revenue'].sum(),\n",
        "    'total_units': int(sales['units_sold'].sum()),\n",
        "    'unique_products': sales['product'].nunique(),\n",
        "    'unique_stores': sales['store'].nunique()\n",
        "}\n",
        "print(\"KPIs:\", kpis)\n",
        "\n",
        "# Aggregations for visuals\n",
        "rev_by_store = sales.groupby('store')['revenue'].sum().reset_index().sort_values('revenue', ascending=False)\n",
        "rev_trend = sales.groupby('month')['revenue'].sum().reset_index()\n",
        "prod_share = sales.groupby('product')['revenue'].sum().reset_index()\n",
        "\n",
        "# Create Plotly figures\n",
        "fig_store = px.bar(rev_by_store, x='store', y='revenue', title='Revenue by Store', text='revenue')\n",
        "fig_trend = px.line(rev_trend, x='month', y='revenue', title='Monthly Revenue Trend', markers=True)\n",
        "fig_pie = px.pie(prod_share, names='product', values='revenue', title='Revenue Share by Product')\n",
        "\n",
        "# Layout and write to single HTML file\n",
        "html_path = Path(\"outputs/retail_dashboard.html\")\n",
        "with open(html_path, 'w', encoding='utf-8') as f:\n",
        "    f.write(\"<html><head><meta charset='utf-8'><title>Retail Dashboard</title></head><body>\\n\")\n",
        "    f.write(\"<h1>Retail Sales Dashboard (Generated via Plotly)</h1>\\n\")\n",
        "    f.write(f\"<p>Total Revenue: ₹{kpis['total_revenue']:.2f} | Total Units: {kpis['total_units']}</p>\\n\")\n",
        "    f.write(fig_store.to_html(full_html=False, include_plotlyjs='cdn'))\n",
        "    f.write(fig_trend.to_html(full_html=False, include_plotlyjs=False))\n",
        "    f.write(fig_pie.to_html(full_html=False, include_plotlyjs=False))\n",
        "    f.write(\"</body></html>\")\n",
        "\n",
        "print(f\"Saved interactive dashboard to: {html_path}\")\n",
        "\n",
        "# -----------------------------\n",
        "# Instructions for Power BI / Tableau:\n",
        "# 1) Import outputs/retail_sales.csv into Power BI or Tableau.\n",
        "# 2) Create visuals: Bar (Revenue by Store), Line (Revenue Trend by Month), Pie (Product Share).\n",
        "# 3) Add KPI cards using total_revenue, total_units, unique_products.\n",
        "# 4) Publish to PowerBI.com or Tableau Public (use your account).\n",
        "#\n",
        "#\n",
        "# - Rename columns (e.g., 'revenue' -> 'net_sales'), re-calculate discounts or add new KPI\n",
        "# - Recreate visuals in Power BI with custom colors and layout\n",
        "# - Add commentary text boxes describing insight (why revenue peaked certain month)\n",
        "# -----------------------------"
      ]
    },
    {
      "cell_type": "code",
      "metadata": {
        "colab": {
          "base_uri": "https://localhost:8080/"
        },
        "id": "b34cc2ce",
        "outputId": "bfd6c85f-4c62-4cc4-c166-32793d6d3161"
      },
      "source": [],
      "execution_count": 2,
      "outputs": [
        {
          "output_type": "stream",
          "name": "stdout",
          "text": [
            "Created dummy retail_sales.csv in outputs\n"
          ]
        }
      ]
    }
  ]
}